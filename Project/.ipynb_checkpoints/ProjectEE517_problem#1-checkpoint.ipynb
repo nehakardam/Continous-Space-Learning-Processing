{
 "cells": [
  {
   "cell_type": "markdown",
   "metadata": {},
   "source": [
    "# Problem #1: The goal is to categorize/classify student responses to the following question:\n",
    "\n",
    "\"What one action can students in your lab groups take to improve your educational experience at UW?\"\n",
    "\n",
    "Categories have already been established within a community of learners of framework as:\n",
    "\n",
    "Category 1: Individual Accountability(IA),\n",
    "Category 2: Positive Interdependence(POSI),\n",
    "Category 3: Promotive Interactions(PI),\n",
    "Category 4: Interpersonal and Social Skills(ISS),\n",
    "Category 5: Group Processing(GP)\n",
    "\n",
    "Note: no student responses were classified as Category 5\n",
    "\n",
    "The purpose of this section of the NLP project is to classify student responses into the five categories\n",
    "above for maximum accuracy, where accuracy is defined as a classification that is identical to what the\n",
    "researcher determined in initial coding and analysis."
   ]
  },
  {
   "cell_type": "code",
   "execution_count": null,
   "metadata": {},
   "outputs": [],
   "source": [
    "from numpy import array\n",
    "from keras.preprocessing.text import one_hot\n",
    "from keras.preprocessing.sequence import pad_sequences\n",
    "from keras.models import Sequential\n",
    "from keras.layers.core import Activation, Dropout, Dense\n",
    "from keras.layers import Flatten, LSTM\n",
    "from keras.layers import GlobalMaxPooling1D\n",
    "from keras.models import Model\n",
    "from keras.layers.embeddings import Embedding\n",
    "from sklearn.model_selection import train_test_split\n",
    "from keras.preprocessing.text import Tokenizer\n",
    "from keras.layers import Input\n",
    "from keras.layers.merge import Concatenate\n",
    "\n",
    "import pandas as pd\n",
    "import numpy as np\n",
    "import re\n",
    "\n",
    "import matplotlib.pyplot as plt"
   ]
  },
  {
   "cell_type": "code",
   "execution_count": 2,
   "metadata": {},
   "outputs": [],
   "source": [
    "input_data = pd.read_csv('/Users/nehakardam/Documents/UWclasses /EE517 NLP/Project/Combined_Qualitative_Edit.csv')"
   ]
  },
  {
   "cell_type": "code",
   "execution_count": 3,
   "metadata": {},
   "outputs": [
    {
     "data": {
      "text/html": [
       "<div>\n",
       "<style scoped>\n",
       "    .dataframe tbody tr th:only-of-type {\n",
       "        vertical-align: middle;\n",
       "    }\n",
       "\n",
       "    .dataframe tbody tr th {\n",
       "        vertical-align: top;\n",
       "    }\n",
       "\n",
       "    .dataframe thead th {\n",
       "        text-align: right;\n",
       "    }\n",
       "</style>\n",
       "<table border=\"1\" class=\"dataframe\">\n",
       "  <thead>\n",
       "    <tr style=\"text-align: right;\">\n",
       "      <th></th>\n",
       "      <th>SA3</th>\n",
       "      <th>CL.1</th>\n",
       "      <th>CL.2</th>\n",
       "    </tr>\n",
       "  </thead>\n",
       "  <tbody>\n",
       "    <tr>\n",
       "      <th>0</th>\n",
       "      <td>It would help if more students were active par...</td>\n",
       "      <td>PI</td>\n",
       "      <td>NaN</td>\n",
       "    </tr>\n",
       "    <tr>\n",
       "      <th>1</th>\n",
       "      <td>I feel the way my lab section works is both en...</td>\n",
       "      <td>POSI</td>\n",
       "      <td>NaN</td>\n",
       "    </tr>\n",
       "    <tr>\n",
       "      <th>2</th>\n",
       "      <td>Be more engaging</td>\n",
       "      <td>PI</td>\n",
       "      <td>NaN</td>\n",
       "    </tr>\n",
       "    <tr>\n",
       "      <th>3</th>\n",
       "      <td>When the course is online, having meaningful i...</td>\n",
       "      <td>PI</td>\n",
       "      <td>NaN</td>\n",
       "    </tr>\n",
       "    <tr>\n",
       "      <th>4</th>\n",
       "      <td>Try to engage more in the lab sections. It is ...</td>\n",
       "      <td>PI</td>\n",
       "      <td>NaN</td>\n",
       "    </tr>\n",
       "    <tr>\n",
       "      <th>...</th>\n",
       "      <td>...</td>\n",
       "      <td>...</td>\n",
       "      <td>...</td>\n",
       "    </tr>\n",
       "    <tr>\n",
       "      <th>707</th>\n",
       "      <td>If people actually show up and want to interac...</td>\n",
       "      <td>IA</td>\n",
       "      <td>ISS</td>\n",
       "    </tr>\n",
       "    <tr>\n",
       "      <th>708</th>\n",
       "      <td>Ask more questions</td>\n",
       "      <td>PI</td>\n",
       "      <td>NaN</td>\n",
       "    </tr>\n",
       "    <tr>\n",
       "      <th>709</th>\n",
       "      <td>Collectively ensure that material is relevant ...</td>\n",
       "      <td>PI</td>\n",
       "      <td>NaN</td>\n",
       "    </tr>\n",
       "    <tr>\n",
       "      <th>710</th>\n",
       "      <td>Ask more questions.</td>\n",
       "      <td>PI</td>\n",
       "      <td>NaN</td>\n",
       "    </tr>\n",
       "    <tr>\n",
       "      <th>711</th>\n",
       "      <td>Be willing to help others.</td>\n",
       "      <td>IA</td>\n",
       "      <td>NaN</td>\n",
       "    </tr>\n",
       "  </tbody>\n",
       "</table>\n",
       "<p>712 rows × 3 columns</p>\n",
       "</div>"
      ],
      "text/plain": [
       "                                                   SA3  CL.1 CL.2\n",
       "0    It would help if more students were active par...    PI  NaN\n",
       "1    I feel the way my lab section works is both en...  POSI  NaN\n",
       "2                                    Be more engaging     PI  NaN\n",
       "3    When the course is online, having meaningful i...    PI  NaN\n",
       "4    Try to engage more in the lab sections. It is ...    PI  NaN\n",
       "..                                                 ...   ...  ...\n",
       "707  If people actually show up and want to interac...    IA  ISS\n",
       "708                                 Ask more questions    PI  NaN\n",
       "709  Collectively ensure that material is relevant ...    PI  NaN\n",
       "710                               Ask more questions.     PI  NaN\n",
       "711                         Be willing to help others.    IA  NaN\n",
       "\n",
       "[712 rows x 3 columns]"
      ]
     },
     "execution_count": 3,
     "metadata": {},
     "output_type": "execute_result"
    }
   ],
   "source": [
    "input_data"
   ]
  },
  {
   "cell_type": "code",
   "execution_count": 4,
   "metadata": {},
   "outputs": [
    {
     "data": {
      "text/plain": [
       "array(['PI', 'POSI', 'ISS', 'IA', ' POSI '], dtype=object)"
      ]
     },
     "execution_count": 4,
     "metadata": {},
     "output_type": "execute_result"
    }
   ],
   "source": [
    "input_data['CL.1'].unique()"
   ]
  },
  {
   "cell_type": "code",
   "execution_count": 5,
   "metadata": {},
   "outputs": [
    {
     "data": {
      "text/plain": [
       "pandas.core.frame.DataFrame"
      ]
     },
     "execution_count": 5,
     "metadata": {},
     "output_type": "execute_result"
    }
   ],
   "source": [
    "type(input_data)"
   ]
  },
  {
   "cell_type": "code",
   "execution_count": 6,
   "metadata": {},
   "outputs": [],
   "source": [
    "# # replace all the missing values for numerical features with zeros\n",
    "new_table = []\n",
    "\n",
    "for row in range(input_data.shape[0]):\n",
    "  # columns are ['PI', 'POSI', 'ISS', 'IA']\n",
    "  new_row = [0,0,0,0]\n",
    "  \n",
    "  if(input_data['CL.1'][row] == 'PI'):\n",
    "    new_row[0] = 1\n",
    "  elif(input_data['CL.1'][row] == 'POSI' or input_data['CL.1'][row] == ' POSI '):\n",
    "    new_row[1] = 1\n",
    "  elif(input_data['CL.1'][row] == 'ISS'):\n",
    "    new_row[2] = 1\n",
    "  elif(input_data['CL.1'][row] == 'IA'):\n",
    "    new_row[3] = 1\n",
    "\n",
    "  if(input_data['CL.2'][row] == 'PI'):\n",
    "    new_row[0] = 1\n",
    "  elif(input_data['CL.2'][row] == 'POSI' or input_data['CL.2'][row] == ' POSI '):\n",
    "    new_row[1] = 1\n",
    "  elif(input_data['CL.2'][row] == 'ISS'):\n",
    "    new_row[2] = 1\n",
    "  elif(input_data['CL.2'][row] == 'IA'):\n",
    "    new_row[3] = 1\n",
    "  \n",
    "  new_table.append(new_row)\n",
    "\n",
    "new_df = pd.DataFrame(new_table, columns=['PI', 'POSI', 'ISS', 'IA'])"
   ]
  },
  {
   "cell_type": "code",
   "execution_count": 7,
   "metadata": {},
   "outputs": [
    {
     "data": {
      "text/html": [
       "<div>\n",
       "<style scoped>\n",
       "    .dataframe tbody tr th:only-of-type {\n",
       "        vertical-align: middle;\n",
       "    }\n",
       "\n",
       "    .dataframe tbody tr th {\n",
       "        vertical-align: top;\n",
       "    }\n",
       "\n",
       "    .dataframe thead th {\n",
       "        text-align: right;\n",
       "    }\n",
       "</style>\n",
       "<table border=\"1\" class=\"dataframe\">\n",
       "  <thead>\n",
       "    <tr style=\"text-align: right;\">\n",
       "      <th></th>\n",
       "      <th>PI</th>\n",
       "      <th>POSI</th>\n",
       "      <th>ISS</th>\n",
       "      <th>IA</th>\n",
       "    </tr>\n",
       "  </thead>\n",
       "  <tbody>\n",
       "    <tr>\n",
       "      <th>0</th>\n",
       "      <td>1</td>\n",
       "      <td>0</td>\n",
       "      <td>0</td>\n",
       "      <td>0</td>\n",
       "    </tr>\n",
       "    <tr>\n",
       "      <th>1</th>\n",
       "      <td>0</td>\n",
       "      <td>1</td>\n",
       "      <td>0</td>\n",
       "      <td>0</td>\n",
       "    </tr>\n",
       "    <tr>\n",
       "      <th>2</th>\n",
       "      <td>1</td>\n",
       "      <td>0</td>\n",
       "      <td>0</td>\n",
       "      <td>0</td>\n",
       "    </tr>\n",
       "    <tr>\n",
       "      <th>3</th>\n",
       "      <td>1</td>\n",
       "      <td>0</td>\n",
       "      <td>0</td>\n",
       "      <td>0</td>\n",
       "    </tr>\n",
       "    <tr>\n",
       "      <th>4</th>\n",
       "      <td>1</td>\n",
       "      <td>0</td>\n",
       "      <td>0</td>\n",
       "      <td>0</td>\n",
       "    </tr>\n",
       "    <tr>\n",
       "      <th>...</th>\n",
       "      <td>...</td>\n",
       "      <td>...</td>\n",
       "      <td>...</td>\n",
       "      <td>...</td>\n",
       "    </tr>\n",
       "    <tr>\n",
       "      <th>707</th>\n",
       "      <td>0</td>\n",
       "      <td>0</td>\n",
       "      <td>1</td>\n",
       "      <td>1</td>\n",
       "    </tr>\n",
       "    <tr>\n",
       "      <th>708</th>\n",
       "      <td>1</td>\n",
       "      <td>0</td>\n",
       "      <td>0</td>\n",
       "      <td>0</td>\n",
       "    </tr>\n",
       "    <tr>\n",
       "      <th>709</th>\n",
       "      <td>1</td>\n",
       "      <td>0</td>\n",
       "      <td>0</td>\n",
       "      <td>0</td>\n",
       "    </tr>\n",
       "    <tr>\n",
       "      <th>710</th>\n",
       "      <td>1</td>\n",
       "      <td>0</td>\n",
       "      <td>0</td>\n",
       "      <td>0</td>\n",
       "    </tr>\n",
       "    <tr>\n",
       "      <th>711</th>\n",
       "      <td>0</td>\n",
       "      <td>0</td>\n",
       "      <td>0</td>\n",
       "      <td>1</td>\n",
       "    </tr>\n",
       "  </tbody>\n",
       "</table>\n",
       "<p>712 rows × 4 columns</p>\n",
       "</div>"
      ],
      "text/plain": [
       "     PI  POSI  ISS  IA\n",
       "0     1     0    0   0\n",
       "1     0     1    0   0\n",
       "2     1     0    0   0\n",
       "3     1     0    0   0\n",
       "4     1     0    0   0\n",
       "..   ..   ...  ...  ..\n",
       "707   0     0    1   1\n",
       "708   1     0    0   0\n",
       "709   1     0    0   0\n",
       "710   1     0    0   0\n",
       "711   0     0    0   1\n",
       "\n",
       "[712 rows x 4 columns]"
      ]
     },
     "execution_count": 7,
     "metadata": {},
     "output_type": "execute_result"
    }
   ],
   "source": [
    "new_df"
   ]
  },
  {
   "cell_type": "code",
   "execution_count": 8,
   "metadata": {},
   "outputs": [
    {
     "data": {
      "text/html": [
       "<div>\n",
       "<style scoped>\n",
       "    .dataframe tbody tr th:only-of-type {\n",
       "        vertical-align: middle;\n",
       "    }\n",
       "\n",
       "    .dataframe tbody tr th {\n",
       "        vertical-align: top;\n",
       "    }\n",
       "\n",
       "    .dataframe thead th {\n",
       "        text-align: right;\n",
       "    }\n",
       "</style>\n",
       "<table border=\"1\" class=\"dataframe\">\n",
       "  <thead>\n",
       "    <tr style=\"text-align: right;\">\n",
       "      <th></th>\n",
       "      <th>SA3</th>\n",
       "      <th>CL.1</th>\n",
       "      <th>CL.2</th>\n",
       "      <th>PI</th>\n",
       "      <th>POSI</th>\n",
       "      <th>ISS</th>\n",
       "      <th>IA</th>\n",
       "    </tr>\n",
       "  </thead>\n",
       "  <tbody>\n",
       "    <tr>\n",
       "      <th>0</th>\n",
       "      <td>It would help if more students were active par...</td>\n",
       "      <td>PI</td>\n",
       "      <td>NaN</td>\n",
       "      <td>1</td>\n",
       "      <td>0</td>\n",
       "      <td>0</td>\n",
       "      <td>0</td>\n",
       "    </tr>\n",
       "    <tr>\n",
       "      <th>1</th>\n",
       "      <td>I feel the way my lab section works is both en...</td>\n",
       "      <td>POSI</td>\n",
       "      <td>NaN</td>\n",
       "      <td>0</td>\n",
       "      <td>1</td>\n",
       "      <td>0</td>\n",
       "      <td>0</td>\n",
       "    </tr>\n",
       "    <tr>\n",
       "      <th>2</th>\n",
       "      <td>Be more engaging</td>\n",
       "      <td>PI</td>\n",
       "      <td>NaN</td>\n",
       "      <td>1</td>\n",
       "      <td>0</td>\n",
       "      <td>0</td>\n",
       "      <td>0</td>\n",
       "    </tr>\n",
       "    <tr>\n",
       "      <th>3</th>\n",
       "      <td>When the course is online, having meaningful i...</td>\n",
       "      <td>PI</td>\n",
       "      <td>NaN</td>\n",
       "      <td>1</td>\n",
       "      <td>0</td>\n",
       "      <td>0</td>\n",
       "      <td>0</td>\n",
       "    </tr>\n",
       "    <tr>\n",
       "      <th>4</th>\n",
       "      <td>Try to engage more in the lab sections. It is ...</td>\n",
       "      <td>PI</td>\n",
       "      <td>NaN</td>\n",
       "      <td>1</td>\n",
       "      <td>0</td>\n",
       "      <td>0</td>\n",
       "      <td>0</td>\n",
       "    </tr>\n",
       "    <tr>\n",
       "      <th>...</th>\n",
       "      <td>...</td>\n",
       "      <td>...</td>\n",
       "      <td>...</td>\n",
       "      <td>...</td>\n",
       "      <td>...</td>\n",
       "      <td>...</td>\n",
       "      <td>...</td>\n",
       "    </tr>\n",
       "    <tr>\n",
       "      <th>707</th>\n",
       "      <td>If people actually show up and want to interac...</td>\n",
       "      <td>IA</td>\n",
       "      <td>ISS</td>\n",
       "      <td>0</td>\n",
       "      <td>0</td>\n",
       "      <td>1</td>\n",
       "      <td>1</td>\n",
       "    </tr>\n",
       "    <tr>\n",
       "      <th>708</th>\n",
       "      <td>Ask more questions</td>\n",
       "      <td>PI</td>\n",
       "      <td>NaN</td>\n",
       "      <td>1</td>\n",
       "      <td>0</td>\n",
       "      <td>0</td>\n",
       "      <td>0</td>\n",
       "    </tr>\n",
       "    <tr>\n",
       "      <th>709</th>\n",
       "      <td>Collectively ensure that material is relevant ...</td>\n",
       "      <td>PI</td>\n",
       "      <td>NaN</td>\n",
       "      <td>1</td>\n",
       "      <td>0</td>\n",
       "      <td>0</td>\n",
       "      <td>0</td>\n",
       "    </tr>\n",
       "    <tr>\n",
       "      <th>710</th>\n",
       "      <td>Ask more questions.</td>\n",
       "      <td>PI</td>\n",
       "      <td>NaN</td>\n",
       "      <td>1</td>\n",
       "      <td>0</td>\n",
       "      <td>0</td>\n",
       "      <td>0</td>\n",
       "    </tr>\n",
       "    <tr>\n",
       "      <th>711</th>\n",
       "      <td>Be willing to help others.</td>\n",
       "      <td>IA</td>\n",
       "      <td>NaN</td>\n",
       "      <td>0</td>\n",
       "      <td>0</td>\n",
       "      <td>0</td>\n",
       "      <td>1</td>\n",
       "    </tr>\n",
       "  </tbody>\n",
       "</table>\n",
       "<p>712 rows × 7 columns</p>\n",
       "</div>"
      ],
      "text/plain": [
       "                                                   SA3  CL.1 CL.2  PI  POSI  \\\n",
       "0    It would help if more students were active par...    PI  NaN   1     0   \n",
       "1    I feel the way my lab section works is both en...  POSI  NaN   0     1   \n",
       "2                                    Be more engaging     PI  NaN   1     0   \n",
       "3    When the course is online, having meaningful i...    PI  NaN   1     0   \n",
       "4    Try to engage more in the lab sections. It is ...    PI  NaN   1     0   \n",
       "..                                                 ...   ...  ...  ..   ...   \n",
       "707  If people actually show up and want to interac...    IA  ISS   0     0   \n",
       "708                                 Ask more questions    PI  NaN   1     0   \n",
       "709  Collectively ensure that material is relevant ...    PI  NaN   1     0   \n",
       "710                               Ask more questions.     PI  NaN   1     0   \n",
       "711                         Be willing to help others.    IA  NaN   0     0   \n",
       "\n",
       "     ISS  IA  \n",
       "0      0   0  \n",
       "1      0   0  \n",
       "2      0   0  \n",
       "3      0   0  \n",
       "4      0   0  \n",
       "..   ...  ..  \n",
       "707    1   1  \n",
       "708    0   0  \n",
       "709    0   0  \n",
       "710    0   0  \n",
       "711    0   1  \n",
       "\n",
       "[712 rows x 7 columns]"
      ]
     },
     "execution_count": 8,
     "metadata": {},
     "output_type": "execute_result"
    }
   ],
   "source": [
    "result = pd.concat([input_data, new_df], axis=1)\n",
    "result"
   ]
  },
  {
   "cell_type": "code",
   "execution_count": 9,
   "metadata": {},
   "outputs": [],
   "source": [
    "# filter = result[\"SA3\"] != \"\"\n",
    "# result = result[filter]\n",
    "# result = result.dropna()"
   ]
  },
  {
   "cell_type": "code",
   "execution_count": 10,
   "metadata": {},
   "outputs": [
    {
     "name": "stdout",
     "output_type": "stream",
     "text": [
      "In the writing of a lab report, they can contribute where they have strengths and ask for assistance where they are not confident.\n"
     ]
    }
   ],
   "source": [
    "print(result[\"SA3\"][420])"
   ]
  },
  {
   "cell_type": "code",
   "execution_count": 11,
   "metadata": {},
   "outputs": [
    {
     "name": "stdout",
     "output_type": "stream",
     "text": [
      "PI:1\n",
      "POSI:0\n",
      "ISS:0\n",
      "IA:0\n"
     ]
    }
   ],
   "source": [
    "print(\"PI:\" + str(result[\"PI\"][420]))\n",
    "print(\"POSI:\" + str(result[\"POSI\"][420]))\n",
    "print(\"ISS:\" + str(result[\"ISS\"][420]))\n",
    "print(\"IA:\" + str(result[\"IA\"][420]))"
   ]
  },
  {
   "cell_type": "markdown",
   "metadata": {},
   "source": [
    "Let's now plot the comment count for each label. To do so, we will first filter all the label or output columns."
   ]
  },
  {
   "cell_type": "code",
   "execution_count": 12,
   "metadata": {},
   "outputs": [
    {
     "data": {
      "text/html": [
       "<div>\n",
       "<style scoped>\n",
       "    .dataframe tbody tr th:only-of-type {\n",
       "        vertical-align: middle;\n",
       "    }\n",
       "\n",
       "    .dataframe tbody tr th {\n",
       "        vertical-align: top;\n",
       "    }\n",
       "\n",
       "    .dataframe thead th {\n",
       "        text-align: right;\n",
       "    }\n",
       "</style>\n",
       "<table border=\"1\" class=\"dataframe\">\n",
       "  <thead>\n",
       "    <tr style=\"text-align: right;\">\n",
       "      <th></th>\n",
       "      <th>PI</th>\n",
       "      <th>POSI</th>\n",
       "      <th>ISS</th>\n",
       "      <th>IA</th>\n",
       "    </tr>\n",
       "  </thead>\n",
       "  <tbody>\n",
       "    <tr>\n",
       "      <th>0</th>\n",
       "      <td>1</td>\n",
       "      <td>0</td>\n",
       "      <td>0</td>\n",
       "      <td>0</td>\n",
       "    </tr>\n",
       "    <tr>\n",
       "      <th>1</th>\n",
       "      <td>0</td>\n",
       "      <td>1</td>\n",
       "      <td>0</td>\n",
       "      <td>0</td>\n",
       "    </tr>\n",
       "    <tr>\n",
       "      <th>2</th>\n",
       "      <td>1</td>\n",
       "      <td>0</td>\n",
       "      <td>0</td>\n",
       "      <td>0</td>\n",
       "    </tr>\n",
       "    <tr>\n",
       "      <th>3</th>\n",
       "      <td>1</td>\n",
       "      <td>0</td>\n",
       "      <td>0</td>\n",
       "      <td>0</td>\n",
       "    </tr>\n",
       "    <tr>\n",
       "      <th>4</th>\n",
       "      <td>1</td>\n",
       "      <td>0</td>\n",
       "      <td>0</td>\n",
       "      <td>0</td>\n",
       "    </tr>\n",
       "  </tbody>\n",
       "</table>\n",
       "</div>"
      ],
      "text/plain": [
       "   PI  POSI  ISS  IA\n",
       "0   1     0    0   0\n",
       "1   0     1    0   0\n",
       "2   1     0    0   0\n",
       "3   1     0    0   0\n",
       "4   1     0    0   0"
      ]
     },
     "execution_count": 12,
     "metadata": {},
     "output_type": "execute_result"
    }
   ],
   "source": [
    "result_labels = result[['PI', 'POSI', 'ISS', 'IA']]\n",
    "result_labels.head()"
   ]
  },
  {
   "cell_type": "code",
   "execution_count": 13,
   "metadata": {},
   "outputs": [
    {
     "data": {
      "text/plain": [
       "<AxesSubplot:>"
      ]
     },
     "execution_count": 13,
     "metadata": {},
     "output_type": "execute_result"
    },
    {
     "data": {
      "image/png": "[encoded data removed]",
      "text/plain": [
       "<Figure size 720x576 with 1 Axes>"
      ]
     },
     "metadata": {
      "needs_background": "light"
     },
     "output_type": "display_data"
    }
   ],
   "source": [
    "fig_size = plt.rcParams[\"figure.figsize\"]\n",
    "fig_size[0] = 10\n",
    "fig_size[1] = 8\n",
    "plt.rcParams[\"figure.figsize\"] = fig_size\n",
    "\n",
    "result_labels.sum(axis=0).plot.bar()"
   ]
  },
  {
   "cell_type": "markdown",
   "metadata": {},
   "source": [
    "# Creating Multi-label Text Classification Models"
   ]
  },
  {
   "cell_type": "markdown",
   "metadata": {},
   "source": [
    "There are two ways to create multi-label classification models: Using single dense output layer and using multiple dense output layers."
   ]
  },
  {
   "cell_type": "markdown",
   "metadata": {},
   "source": [
    "Multi-label text classification model with single output layer\n",
    "In the first approach, we can use a single dense layer with 4 outputs with a sigmoid activation functions and binary cross entropy loss functions. Each neuron in the output dense layer will represent one of the 4 output labels. The sigmoid activation function will return a value between 0 and 1 for each neuron. If any neuron's output value is greater than 0.5, it is assumed that the comment belongs to the class represented by that particular neuron."
   ]
  },
  {
   "cell_type": "code",
   "execution_count": 14,
   "metadata": {},
   "outputs": [],
   "source": [
    "def preprocess_text(sen):\n",
    "    # Remove punctuations and numbers\n",
    "    sentence = re.sub('[^a-zA-Z]', ' ', sen)\n",
    "\n",
    "    # Single character removal\n",
    "    sentence = re.sub(r\"\\s+[a-zA-Z]\\s+\", ' ', sentence)\n",
    "\n",
    "    # Removing multiple spaces\n",
    "    sentence = re.sub(r'\\s+', ' ', sentence)\n",
    "\n",
    "    return sentence"
   ]
  },
  {
   "cell_type": "code",
   "execution_count": 15,
   "metadata": {},
   "outputs": [],
   "source": [
    "X = []\n",
    "sentences = list(result[\"SA3\"])\n",
    "for sen in sentences:\n",
    "    X.append(preprocess_text(sen))\n",
    "\n",
    "y = result_labels.values"
   ]
  },
  {
   "cell_type": "code",
   "execution_count": 16,
   "metadata": {},
   "outputs": [],
   "source": [
    "X_train, X_test, y_train, y_test = train_test_split(X, y, test_size=0.20, random_state=42)"
   ]
  },
  {
   "cell_type": "code",
   "execution_count": 17,
   "metadata": {},
   "outputs": [],
   "source": [
    "tokenizer = Tokenizer(num_words=5000)\n",
    "tokenizer.fit_on_texts(X_train)\n",
    "\n",
    "X_train = tokenizer.texts_to_sequences(X_train)\n",
    "X_test = tokenizer.texts_to_sequences(X_test)\n",
    "\n",
    "vocab_size = len(tokenizer.word_index) + 1\n",
    "\n",
    "maxlen = 200\n",
    "\n",
    "X_train = pad_sequences(X_train, padding='post', maxlen=maxlen)\n",
    "X_test = pad_sequences(X_test, padding='post', maxlen=maxlen)"
   ]
  },
  {
   "cell_type": "code",
   "execution_count": 18,
   "metadata": {},
   "outputs": [],
   "source": [
    "from numpy import array\n",
    "from numpy import asarray\n",
    "from numpy import zeros\n",
    "\n",
    "embeddings_dictionary = dict()\n",
    "\n",
    "glove_file = open('/Users/nehakardam/Documents/UWclasses /EE517 NLP/Lab 1/glove.6B.50d.txt', encoding=\"utf8\")\n",
    "\n",
    "\n",
    "for line in glove_file:\n",
    "    records = line.split()\n",
    "    word = records[0]\n",
    "    vector_dimensions = asarray(records[1:], dtype='float32')\n",
    "    embeddings_dictionary[word] = vector_dimensions\n",
    "glove_file.close()\n",
    "\n",
    "embedding_matrix = zeros((vocab_size, 50))\n",
    "for word, index in tokenizer.word_index.items():\n",
    "    embedding_vector = embeddings_dictionary.get(word)\n",
    "    if embedding_vector is not None:\n",
    "        embedding_matrix[index] = embedding_vector"
   ]
  },
  {
   "cell_type": "markdown",
   "metadata": {},
   "source": [
    "The following script creates the model. Our model will have one input layer, one embedding layer, one LSTM layer with 128 neurons and one output layer with 4 neurons since we have 4 labels in the output."
   ]
  },
  {
   "cell_type": "code",
   "execution_count": 19,
   "metadata": {},
   "outputs": [],
   "source": [
    "deep_inputs = Input(shape=(maxlen,))\n",
    "embedding_layer = Embedding(vocab_size, 50, weights=[embedding_matrix], trainable=False)(deep_inputs)\n",
    "LSTM_Layer_1 = LSTM(128)(embedding_layer)\n",
    "dense_layer_1 = Dense(4, activation='sigmoid')(LSTM_Layer_1)\n",
    "model = Model(inputs=deep_inputs, outputs=dense_layer_1)\n",
    "\n",
    "model.compile(loss='binary_crossentropy', optimizer='adam', metrics=['acc'])"
   ]
  },
  {
   "cell_type": "code",
   "execution_count": 20,
   "metadata": {},
   "outputs": [
    {
     "name": "stdout",
     "output_type": "stream",
     "text": [
      "Model: \"model\"\n",
      "_________________________________________________________________\n",
      "Layer (type)                 Output Shape              Param #   \n",
      "=================================================================\n",
      "input_1 (InputLayer)         [(None, 200)]             0         \n",
      "_________________________________________________________________\n",
      "embedding (Embedding)        (None, 200, 50)           72100     \n",
      "_________________________________________________________________\n",
      "lstm (LSTM)                  (None, 128)               91648     \n",
      "_________________________________________________________________\n",
      "dense (Dense)                (None, 4)                 516       \n",
      "=================================================================\n",
      "Total params: 164,264\n",
      "Trainable params: 92,164\n",
      "Non-trainable params: 72,100\n",
      "_________________________________________________________________\n",
      "None\n"
     ]
    }
   ],
   "source": [
    "print(model.summary())"
   ]
  },
  {
   "cell_type": "code",
   "execution_count": 21,
   "metadata": {},
   "outputs": [
    {
     "name": "stdout",
     "output_type": "stream",
     "text": [
      "Requirement already satisfied: pydot in /opt/anaconda3/lib/python3.8/site-packages (1.4.2)\n",
      "Requirement already satisfied: pyparsing>=2.1.4 in /opt/anaconda3/lib/python3.8/site-packages (from pydot) (2.4.7)\n",
      "Requirement already satisfied: pydotplus in /opt/anaconda3/lib/python3.8/site-packages (2.0.2)\n",
      "Requirement already satisfied: pyparsing>=2.0.1 in /opt/anaconda3/lib/python3.8/site-packages (from pydotplus) (2.4.7)\n"
     ]
    }
   ],
   "source": [
    "!pip install pydot\n",
    "!pip install pydotplus"
   ]
  },
  {
   "cell_type": "code",
   "execution_count": 22,
   "metadata": {},
   "outputs": [
    {
     "name": "stdout",
     "output_type": "stream",
     "text": [
      "Requirement already satisfied: graphviz in /opt/anaconda3/lib/python3.8/site-packages (0.16)\r\n"
     ]
    }
   ],
   "source": [
    "!pip install graphviz"
   ]
  },
  {
   "cell_type": "code",
   "execution_count": 24,
   "metadata": {},
   "outputs": [],
   "source": [
    "# from keras.utils import plot_model\n",
    "# from graphviz import Digraph\n",
    "# plot_model(model, to_file='model_plot4a.png', show_shapes=True, show_layer_names=True)"
   ]
  },
  {
   "cell_type": "markdown",
   "metadata": {},
   "source": [
    "We will train our model for 5 epochs."
   ]
  },
  {
   "cell_type": "code",
   "execution_count": 25,
   "metadata": {},
   "outputs": [
    {
     "name": "stdout",
     "output_type": "stream",
     "text": [
      "Epoch 1/5\n",
      "4/4 [==============================] - 3s 356ms/step - loss: 0.6916 - acc: 0.4680 - val_loss: 0.6847 - val_acc: 0.4298\n",
      "Epoch 2/5\n",
      "4/4 [==============================] - 1s 138ms/step - loss: 0.6783 - acc: 0.5097 - val_loss: 0.6458 - val_acc: 0.4298\n",
      "Epoch 3/5\n",
      "4/4 [==============================] - 1s 139ms/step - loss: 0.6134 - acc: 0.5073 - val_loss: 0.6288 - val_acc: 0.4298\n",
      "Epoch 4/5\n",
      "4/4 [==============================] - 1s 136ms/step - loss: 0.5688 - acc: 0.5138 - val_loss: 0.5960 - val_acc: 0.4298\n",
      "Epoch 5/5\n",
      "4/4 [==============================] - 1s 138ms/step - loss: 0.5770 - acc: 0.4831 - val_loss: 0.5930 - val_acc: 0.4298\n"
     ]
    }
   ],
   "source": [
    "history = model.fit(X_train, y_train, batch_size=128, epochs=5, verbose=1, validation_split=0.2)"
   ]
  },
  {
   "cell_type": "code",
   "execution_count": 26,
   "metadata": {},
   "outputs": [
    {
     "name": "stdout",
     "output_type": "stream",
     "text": [
      "5/5 [==============================] - 0s 21ms/step - loss: 0.5776 - acc: 0.4755\n",
      "Test Score: 0.5775728225708008\n",
      "Test Accuracy: 0.4755244851112366\n"
     ]
    }
   ],
   "source": [
    "score = model.evaluate(X_test, y_test, verbose=1)\n",
    "\n",
    "print(\"Test Score:\", score[0])\n",
    "print(\"Test Accuracy:\", score[1])"
   ]
  },
  {
   "cell_type": "code",
   "execution_count": 27,
   "metadata": {},
   "outputs": [
    {
     "data": {
      "image/png": "[encoded data removed]",
      "text/plain": [
       "<Figure size 720x576 with 1 Axes>"
      ]
     },
     "metadata": {
      "needs_background": "light"
     },
     "output_type": "display_data"
    },
    {
     "data": {
      "image/png": "[encoded data removed]",
      "text/plain": [
       "<Figure size 720x576 with 1 Axes>"
      ]
     },
     "metadata": {
      "needs_background": "light"
     },
     "output_type": "display_data"
    }
   ],
   "source": [
    "import matplotlib.pyplot as plt\n",
    "\n",
    "plt.plot(history.history['acc'])\n",
    "plt.plot(history.history['val_acc'])\n",
    "\n",
    "plt.title('model accuracy')\n",
    "plt.ylabel('accuracy')\n",
    "plt.xlabel('epoch')\n",
    "plt.legend(['train','test'], loc='upper left')\n",
    "plt.show()\n",
    "\n",
    "plt.plot(history.history['loss'])\n",
    "plt.plot(history.history['val_loss'])\n",
    "\n",
    "plt.title('model loss')\n",
    "plt.ylabel('loss')\n",
    "plt.xlabel('epoch')\n",
    "plt.legend(['train','test'], loc='upper left')\n",
    "plt.show()"
   ]
  },
  {
   "cell_type": "markdown",
   "metadata": {},
   "source": [
    "# Multi-lable Text Classification Model with Multiple Output Layers"
   ]
  },
  {
   "cell_type": "markdown",
   "metadata": {},
   "source": [
    "In the second approach we will create one dense output layer for each label. We will have a total of 4 dense layers in the output. Each layer will have its own sigmoid function."
   ]
  },
  {
   "cell_type": "code",
   "execution_count": 28,
   "metadata": {},
   "outputs": [],
   "source": [
    "def preprocess_text(sen):\n",
    "    # Remove punctuations and numbers\n",
    "    sentence = re.sub('[^a-zA-Z]', ' ', sen)\n",
    "\n",
    "    # Single character removal\n",
    "    sentence = re.sub(r\"\\s+[a-zA-Z]\\s+\", ' ', sentence)\n",
    "\n",
    "    # Removing multiple spaces\n",
    "    sentence = re.sub(r'\\s+', ' ', sentence)\n",
    "\n",
    "    return sentence"
   ]
  },
  {
   "cell_type": "code",
   "execution_count": 29,
   "metadata": {},
   "outputs": [],
   "source": [
    "X = []\n",
    "sentences = list(result[\"SA3\"])\n",
    "for sen in sentences:\n",
    "    X.append(preprocess_text(sen))\n",
    "\n",
    "y = result[['PI', 'POSI', 'ISS', 'IA']]"
   ]
  },
  {
   "cell_type": "code",
   "execution_count": 30,
   "metadata": {},
   "outputs": [],
   "source": [
    "X_train, X_test, y_train, y_test = train_test_split(X, y, test_size=0.20, random_state=42)"
   ]
  },
  {
   "cell_type": "code",
   "execution_count": 31,
   "metadata": {},
   "outputs": [],
   "source": [
    "# First output\n",
    "y1_train = y_train[[\"PI\"]].values\n",
    "y1_test =  y_test[[\"PI\"]].values\n",
    "\n",
    "# Second output\n",
    "y2_train = y_train[[\"POSI\"]].values\n",
    "y2_test =  y_test[[\"POSI\"]].values\n",
    "\n",
    "# Third output\n",
    "y3_train = y_train[[\"ISS\"]].values\n",
    "y3_test =  y_test[[\"ISS\"]].values\n",
    "\n",
    "# Fourth output\n",
    "y4_train = y_train[[\"IA\"]].values\n",
    "y4_test =  y_test[[\"IA\"]].values\n",
    "\n"
   ]
  },
  {
   "cell_type": "code",
   "execution_count": 33,
   "metadata": {},
   "outputs": [],
   "source": [
    "tokenizer = Tokenizer(num_words=5000)\n",
    "tokenizer.fit_on_texts(X_train)\n",
    "\n",
    "X_train = tokenizer.texts_to_sequences(X_train)\n",
    "X_test = tokenizer.texts_to_sequences(X_test)\n",
    "\n",
    "vocab_size = len(tokenizer.word_index) + 1\n",
    "\n",
    "maxlen = 200\n",
    "\n",
    "X_train = pad_sequences(X_train, padding='post', maxlen=maxlen)\n",
    "X_test = pad_sequences(X_test, padding='post', maxlen=maxlen)"
   ]
  },
  {
   "cell_type": "code",
   "execution_count": 36,
   "metadata": {},
   "outputs": [],
   "source": [
    "glove_file = open(\"/Users/nehakardam/Documents/UWclasses /EE517 NLP/Lab 1/glove.6B.50d.txt\", encoding=\"utf8\")\n",
    "\n",
    "for line in glove_file:\n",
    "    records = line.split()\n",
    "    word = records[0]\n",
    "    vector_dimensions = asarray(records[1:], dtype='float32')\n",
    "    embeddings_dictionary[word] = vector_dimensions\n",
    "glove_file.close()\n",
    "\n",
    "embedding_matrix = zeros((vocab_size, 50))\n",
    "for word, index in tokenizer.word_index.items():\n",
    "    embedding_vector = embeddings_dictionary.get(word)\n",
    "    if embedding_vector is not None:\n",
    "        embedding_matrix[index] = embedding_vector"
   ]
  },
  {
   "cell_type": "code",
   "execution_count": 37,
   "metadata": {},
   "outputs": [],
   "source": [
    "input_1 = Input(shape=(maxlen,))\n",
    "embedding_layer = Embedding(vocab_size, 50, weights=[embedding_matrix], trainable=False)(input_1)\n",
    "LSTM_Layer1 = LSTM(128)(embedding_layer)\n",
    "\n",
    "output1 = Dense(1, activation='sigmoid')(LSTM_Layer1)\n",
    "output2 = Dense(1, activation='sigmoid')(LSTM_Layer1)\n",
    "output3 = Dense(1, activation='sigmoid')(LSTM_Layer1)\n",
    "output4 = Dense(1, activation='sigmoid')(LSTM_Layer1)\n",
    "\n",
    "model = Model(inputs=input_1, outputs=[output1, output2, output3, output4])\n",
    "model.compile(loss='binary_crossentropy', optimizer='adam', metrics=['acc'])"
   ]
  },
  {
   "cell_type": "code",
   "execution_count": 38,
   "metadata": {},
   "outputs": [
    {
     "name": "stdout",
     "output_type": "stream",
     "text": [
      "Model: \"model_1\"\n",
      "__________________________________________________________________________________________________\n",
      "Layer (type)                    Output Shape         Param #     Connected to                     \n",
      "==================================================================================================\n",
      "input_2 (InputLayer)            [(None, 200)]        0                                            \n",
      "__________________________________________________________________________________________________\n",
      "embedding_1 (Embedding)         (None, 200, 50)      72100       input_2[0][0]                    \n",
      "__________________________________________________________________________________________________\n",
      "lstm_1 (LSTM)                   (None, 128)          91648       embedding_1[0][0]                \n",
      "__________________________________________________________________________________________________\n",
      "dense_1 (Dense)                 (None, 1)            129         lstm_1[0][0]                     \n",
      "__________________________________________________________________________________________________\n",
      "dense_2 (Dense)                 (None, 1)            129         lstm_1[0][0]                     \n",
      "__________________________________________________________________________________________________\n",
      "dense_3 (Dense)                 (None, 1)            129         lstm_1[0][0]                     \n",
      "__________________________________________________________________________________________________\n",
      "dense_4 (Dense)                 (None, 1)            129         lstm_1[0][0]                     \n",
      "==================================================================================================\n",
      "Total params: 164,264\n",
      "Trainable params: 92,164\n",
      "Non-trainable params: 72,100\n",
      "__________________________________________________________________________________________________\n",
      "None\n"
     ]
    }
   ],
   "source": [
    "print(model.summary())"
   ]
  },
  {
   "cell_type": "code",
   "execution_count": 40,
   "metadata": {},
   "outputs": [],
   "source": [
    "# from keras.utils import plot_model\n",
    "# plot_model(model, to_file='model_plot4b.png', show_shapes=True, show_layer_names=True)"
   ]
  },
  {
   "cell_type": "code",
   "execution_count": 41,
   "metadata": {},
   "outputs": [
    {
     "name": "stdout",
     "output_type": "stream",
     "text": [
      "Epoch 1/5\n",
      "1/1 [==============================] - 3s 3s/step - loss: 2.7726 - dense_1_loss: 0.6931 - dense_2_loss: 0.6931 - dense_3_loss: 0.6931 - dense_4_loss: 0.6931 - dense_1_acc: 0.4967 - dense_2_acc: 0.8220 - dense_3_acc: 0.8066 - dense_4_acc: 0.6923 - val_loss: 2.7659 - val_dense_1_loss: 0.6932 - val_dense_2_loss: 0.6890 - val_dense_3_loss: 0.6913 - val_dense_4_loss: 0.6923 - val_dense_1_acc: 0.4298 - val_dense_2_acc: 0.8246 - val_dense_3_acc: 0.7456 - val_dense_4_acc: 0.6491\n",
      "Epoch 2/5\n",
      "1/1 [==============================] - 0s 444ms/step - loss: 2.7651 - dense_1_loss: 0.6931 - dense_2_loss: 0.6891 - dense_3_loss: 0.6908 - dense_4_loss: 0.6921 - dense_1_acc: 0.5033 - dense_2_acc: 0.8220 - dense_3_acc: 0.8066 - dense_4_acc: 0.6945 - val_loss: 2.7577 - val_dense_1_loss: 0.6934 - val_dense_2_loss: 0.6840 - val_dense_3_loss: 0.6890 - val_dense_4_loss: 0.6913 - val_dense_1_acc: 0.4298 - val_dense_2_acc: 0.8246 - val_dense_3_acc: 0.7456 - val_dense_4_acc: 0.6491\n",
      "Epoch 3/5\n",
      "1/1 [==============================] - 0s 425ms/step - loss: 2.7559 - dense_1_loss: 0.6931 - dense_2_loss: 0.6841 - dense_3_loss: 0.6879 - dense_4_loss: 0.6908 - dense_1_acc: 0.5033 - dense_2_acc: 0.8220 - dense_3_acc: 0.8066 - dense_4_acc: 0.6945 - val_loss: 2.7469 - val_dense_1_loss: 0.6935 - val_dense_2_loss: 0.6774 - val_dense_3_loss: 0.6860 - val_dense_4_loss: 0.6901 - val_dense_1_acc: 0.4298 - val_dense_2_acc: 0.8246 - val_dense_3_acc: 0.7456 - val_dense_4_acc: 0.6491\n",
      "Epoch 4/5\n",
      "1/1 [==============================] - 0s 448ms/step - loss: 2.7439 - dense_1_loss: 0.6931 - dense_2_loss: 0.6775 - dense_3_loss: 0.6842 - dense_4_loss: 0.6891 - dense_1_acc: 0.5033 - dense_2_acc: 0.8220 - dense_3_acc: 0.8066 - dense_4_acc: 0.6945 - val_loss: 2.7323 - val_dense_1_loss: 0.6937 - val_dense_2_loss: 0.6684 - val_dense_3_loss: 0.6819 - val_dense_4_loss: 0.6883 - val_dense_1_acc: 0.4298 - val_dense_2_acc: 0.8246 - val_dense_3_acc: 0.7456 - val_dense_4_acc: 0.6491\n",
      "Epoch 5/5\n",
      "1/1 [==============================] - 0s 432ms/step - loss: 2.7276 - dense_1_loss: 0.6931 - dense_2_loss: 0.6686 - dense_3_loss: 0.6790 - dense_4_loss: 0.6868 - dense_1_acc: 0.5033 - dense_2_acc: 0.8220 - dense_3_acc: 0.8066 - dense_4_acc: 0.6945 - val_loss: 2.7113 - val_dense_1_loss: 0.6940 - val_dense_2_loss: 0.6554 - val_dense_3_loss: 0.6760 - val_dense_4_loss: 0.6858 - val_dense_1_acc: 0.4298 - val_dense_2_acc: 0.8246 - val_dense_3_acc: 0.7456 - val_dense_4_acc: 0.6491\n"
     ]
    }
   ],
   "source": [
    "history = model.fit(x=X_train, y=[y1_train, y2_train, y3_train, y4_train], batch_size=8192, epochs=5, verbose=1, validation_split=0.2)"
   ]
  },
  {
   "cell_type": "code",
   "execution_count": 42,
   "metadata": {},
   "outputs": [
    {
     "name": "stdout",
     "output_type": "stream",
     "text": [
      "5/5 [==============================] - 0s 25ms/step - loss: 2.7083 - dense_1_loss: 0.6935 - dense_2_loss: 0.6613 - dense_3_loss: 0.6703 - dense_4_loss: 0.6833 - dense_1_acc: 0.4755 - dense_2_acc: 0.7762 - dense_3_acc: 0.8252 - dense_4_acc: 0.6993\n",
      "Test Score: 2.708333969116211\n",
      "Test Accuracy: 0.6934515833854675\n"
     ]
    }
   ],
   "source": [
    "score = model.evaluate(x=X_test, y=[y1_test, y2_test, y3_test, y4_test], verbose=1)\n",
    "\n",
    "print(\"Test Score:\", score[0])\n",
    "print(\"Test Accuracy:\", score[1])"
   ]
  },
  {
   "cell_type": "code",
   "execution_count": 43,
   "metadata": {
    "scrolled": false
   },
   "outputs": [
    {
     "data": {
      "image/png": "[encoded data removed]",
      "text/plain": [
       "<Figure size 720x576 with 1 Axes>"
      ]
     },
     "metadata": {
      "needs_background": "light"
     },
     "output_type": "display_data"
    },
    {
     "data": {
      "image/png": "[encoded data removed]",
      "text/plain": [
       "<Figure size 720x576 with 1 Axes>"
      ]
     },
     "metadata": {
      "needs_background": "light"
     },
     "output_type": "display_data"
    }
   ],
   "source": [
    "import matplotlib.pyplot as plt\n",
    "\n",
    "plt.plot(history.history['dense_1_acc'])\n",
    "plt.plot(history.history['val_dense_1_acc'])\n",
    "\n",
    "plt.title('model accuracy')\n",
    "plt.ylabel('accuracy')\n",
    "plt.xlabel('epoch')\n",
    "plt.legend(['train','test'], loc='upper left')\n",
    "plt.show()\n",
    "\n",
    "plt.plot(history.history['dense_1_loss'])\n",
    "plt.plot(history.history['val_dense_1_loss'])\n",
    "\n",
    "plt.title('model loss')\n",
    "plt.ylabel('loss')\n",
    "plt.xlabel('epoch')\n",
    "plt.legend(['train','test'], loc='upper left')\n",
    "plt.show()"
   ]
  },
  {
   "cell_type": "markdown",
   "metadata": {},
   "source": [
    "https://stackabuse.com/python-for-nlp-multi-label-text-classification-with-keras/"
   ]
  },
  {
   "cell_type": "code",
   "execution_count": null,
   "metadata": {},
   "outputs": [],
   "source": []
  }
 ],
 "metadata": {
  "kernelspec": {
   "display_name": "Python 3",
   "language": "python",
   "name": "python3"
  },
  "language_info": {
   "codemirror_mode": {
    "name": "ipython",
    "version": 3
   },
   "file_extension": ".py",
   "mimetype": "text/x-python",
   "name": "python",
   "nbconvert_exporter": "python",
   "pygments_lexer": "ipython3",
   "version": "3.8.5"
  }
 },
 "nbformat": 4,
 "nbformat_minor": 4
}
